{
 "cells": [
  {
   "cell_type": "code",
   "execution_count": 78,
   "id": "738e2499",
   "metadata": {},
   "outputs": [],
   "source": [
    "import pandas as pd\n",
    "import datetime\n",
    "import calendar"
   ]
  },
  {
   "cell_type": "code",
   "execution_count": 262,
   "id": "3f9b914b",
   "metadata": {},
   "outputs": [],
   "source": [
    "data = pd.read_excel(\"data_cleaning.xlsx\",sheet_name='Usage',index_col=None, header=None)"
   ]
  },
  {
   "cell_type": "code",
   "execution_count": 263,
   "id": "21eaaac8",
   "metadata": {},
   "outputs": [
    {
     "data": {
      "text/html": [
       "<div>\n",
       "<style scoped>\n",
       "    .dataframe tbody tr th:only-of-type {\n",
       "        vertical-align: middle;\n",
       "    }\n",
       "\n",
       "    .dataframe tbody tr th {\n",
       "        vertical-align: top;\n",
       "    }\n",
       "\n",
       "    .dataframe thead th {\n",
       "        text-align: right;\n",
       "    }\n",
       "</style>\n",
       "<table border=\"1\" class=\"dataframe\">\n",
       "  <thead>\n",
       "    <tr style=\"text-align: right;\">\n",
       "      <th></th>\n",
       "      <th>0</th>\n",
       "    </tr>\n",
       "  </thead>\n",
       "  <tbody>\n",
       "    <tr>\n",
       "      <th>count</th>\n",
       "      <td>8760</td>\n",
       "    </tr>\n",
       "    <tr>\n",
       "      <th>unique</th>\n",
       "      <td>8754</td>\n",
       "    </tr>\n",
       "    <tr>\n",
       "      <th>top</th>\n",
       "      <td>12PM  Mon 7th-Jul-2014___1.296 kwh</td>\n",
       "    </tr>\n",
       "    <tr>\n",
       "      <th>freq</th>\n",
       "      <td>2</td>\n",
       "    </tr>\n",
       "  </tbody>\n",
       "</table>\n",
       "</div>"
      ],
      "text/plain": [
       "                                            0\n",
       "count                                    8760\n",
       "unique                                   8754\n",
       "top       12PM  Mon 7th-Jul-2014___1.296 kwh \n",
       "freq                                        2"
      ]
     },
     "execution_count": 263,
     "metadata": {},
     "output_type": "execute_result"
    }
   ],
   "source": [
    "data.describe()"
   ]
  },
  {
   "cell_type": "code",
   "execution_count": 264,
   "id": "6722b8f3",
   "metadata": {},
   "outputs": [],
   "source": [
    "data.columns=[\"electricity\"]"
   ]
  },
  {
   "cell_type": "code",
   "execution_count": 265,
   "id": "f25c4e46",
   "metadata": {},
   "outputs": [
    {
     "data": {
      "text/html": [
       "<div>\n",
       "<style scoped>\n",
       "    .dataframe tbody tr th:only-of-type {\n",
       "        vertical-align: middle;\n",
       "    }\n",
       "\n",
       "    .dataframe tbody tr th {\n",
       "        vertical-align: top;\n",
       "    }\n",
       "\n",
       "    .dataframe thead th {\n",
       "        text-align: right;\n",
       "    }\n",
       "</style>\n",
       "<table border=\"1\" class=\"dataframe\">\n",
       "  <thead>\n",
       "    <tr style=\"text-align: right;\">\n",
       "      <th></th>\n",
       "      <th>electricity</th>\n",
       "    </tr>\n",
       "  </thead>\n",
       "  <tbody>\n",
       "    <tr>\n",
       "      <th>0</th>\n",
       "      <td>3 PM  Mon 24th-Mar-2014___0.384 kwh</td>\n",
       "    </tr>\n",
       "    <tr>\n",
       "      <th>1</th>\n",
       "      <td>5AM  15-Aug-2014___1.201  kwh</td>\n",
       "    </tr>\n",
       "    <tr>\n",
       "      <th>2</th>\n",
       "      <td>__8PM Thu 20-Mar-2014____1.523 kwh</td>\n",
       "    </tr>\n",
       "    <tr>\n",
       "      <th>3</th>\n",
       "      <td>6PM  23rd-Apr-2014___0.424  kwh</td>\n",
       "    </tr>\n",
       "    <tr>\n",
       "      <th>4</th>\n",
       "      <td>_1AM  Friday 19th-Dec-2014___0.209  kwh</td>\n",
       "    </tr>\n",
       "    <tr>\n",
       "      <th>...</th>\n",
       "      <td>...</td>\n",
       "    </tr>\n",
       "    <tr>\n",
       "      <th>8755</th>\n",
       "      <td>_1AM  Fri 07th-Nov-2014_0.084 kwh</td>\n",
       "    </tr>\n",
       "    <tr>\n",
       "      <th>8756</th>\n",
       "      <td>_6AM 20-May-2014__1.027 kwh</td>\n",
       "    </tr>\n",
       "    <tr>\n",
       "      <th>8757</th>\n",
       "      <td>__2 AM  Tuesday 8th-Apr-2014___0.052 kwh</td>\n",
       "    </tr>\n",
       "    <tr>\n",
       "      <th>8758</th>\n",
       "      <td>9 PM 27th-Jan-2014_1.428  kwh</td>\n",
       "    </tr>\n",
       "    <tr>\n",
       "      <th>8759</th>\n",
       "      <td>_12 PM 25th-Aug-2014_0.528  kwh</td>\n",
       "    </tr>\n",
       "  </tbody>\n",
       "</table>\n",
       "<p>8760 rows × 1 columns</p>\n",
       "</div>"
      ],
      "text/plain": [
       "                                    electricity\n",
       "0         3 PM  Mon 24th-Mar-2014___0.384 kwh  \n",
       "1                5AM  15-Aug-2014___1.201  kwh \n",
       "2          __8PM Thu 20-Mar-2014____1.523 kwh  \n",
       "3               6PM  23rd-Apr-2014___0.424  kwh\n",
       "4     _1AM  Friday 19th-Dec-2014___0.209  kwh  \n",
       "...                                         ...\n",
       "8755         _1AM  Fri 07th-Nov-2014_0.084 kwh \n",
       "8756                _6AM 20-May-2014__1.027 kwh\n",
       "8757   __2 AM  Tuesday 8th-Apr-2014___0.052 kwh\n",
       "8758            9 PM 27th-Jan-2014_1.428  kwh  \n",
       "8759          _12 PM 25th-Aug-2014_0.528  kwh  \n",
       "\n",
       "[8760 rows x 1 columns]"
      ]
     },
     "execution_count": 265,
     "metadata": {},
     "output_type": "execute_result"
    }
   ],
   "source": [
    "data"
   ]
  },
  {
   "cell_type": "code",
   "execution_count": 266,
   "id": "a42ecbca",
   "metadata": {},
   "outputs": [],
   "source": [
    "for i in range(data.shape[0]):\n",
    "    data['electricity'][i] = data['electricity'][i].replace(\"kwh\", \"\")\n",
    "    data['electricity'][i] = data['electricity'][i].strip() \n",
    "    data['electricity'][i] = data['electricity'][i].strip(\"_\") "
   ]
  },
  {
   "cell_type": "code",
   "execution_count": 267,
   "id": "73ca1946",
   "metadata": {},
   "outputs": [],
   "source": [
    "for i in range(data.shape[0]):\n",
    "    if \"AM\" in data['electricity'][i]:\n",
    "        ind = data['electricity'][i].index(\"AM\")\n",
    "        data['electricity'][i] = data['electricity'][i][:ind] + \" \" + data['electricity'][i][ind:]\n",
    "    elif \"PM\" in data['electricity'][i]:\n",
    "        ind = data['electricity'][i].index(\"PM\")\n",
    "        data['electricity'][i] = data['electricity'][i][:ind] + \" \" + data['electricity'][i][ind:]    "
   ]
  },
  {
   "cell_type": "code",
   "execution_count": 268,
   "id": "1483a096",
   "metadata": {},
   "outputs": [],
   "source": [
    "data['electricity'] = [data['electricity'][x].replace(\"_\", \" \") for x in range(data.shape[0])]"
   ]
  },
  {
   "cell_type": "code",
   "execution_count": 269,
   "id": "265c486a",
   "metadata": {},
   "outputs": [],
   "source": [
    "list1 = [] #list len 4\n",
    "list2 = [] #list len 5\n",
    "\n",
    "for i in range(data.shape[0]):\n",
    "    if len(data['electricity'][i].split()) == 4:\n",
    "        list1.append((list(data['electricity'][i].split())))\n",
    "    elif len(data['electricity'][i].split()) == 5:\n",
    "        list2.append((list(data['electricity'][i].split())))"
   ]
  },
  {
   "cell_type": "code",
   "execution_count": 270,
   "id": "018d421a",
   "metadata": {},
   "outputs": [],
   "source": [
    "for i in range(len(list1)):\n",
    "    if \"st\" in list1[i][2]:\n",
    "        list1[i][2] = list1[i][2].replace(\"st\", \"\")\n",
    "    elif \"nd\" in list1[i][2]:\n",
    "        list1[i][2] = list1[i][2].replace(\"nd\", \"\")\n",
    "    elif \"rd\" in list1[i][2]:\n",
    "        list1[i][2] = list1[i][2].replace(\"rd\", \"\")\n",
    "    elif \"th\" in list1[i][2]:\n",
    "        list1[i][2] = list1[i][2].replace(\"th\", \"\")\n",
    "        \n",
    "for i in range(len(list2)):\n",
    "    if \"st\" in list2[i][3]:\n",
    "        list2[i][3] = list2[i][3].replace(\"st\", \"\")\n",
    "    elif \"nd\" in list2[i][3]:\n",
    "        list2[i][3] = list2[i][3].replace(\"nd\", \"\")\n",
    "    elif \"rd\" in list2[i][3]:\n",
    "        list2[i][3] = list2[i][3].replace(\"rd\", \"\")\n",
    "    elif \"th\" in list2[i][3]:\n",
    "        list2[i][3] = list2[i][3].replace(\"th\", \"\")"
   ]
  },
  {
   "cell_type": "code",
   "execution_count": 271,
   "id": "9f36c387",
   "metadata": {},
   "outputs": [],
   "source": [
    "for i in range(len(list1)):\n",
    "    list1[i].insert(2, list(calendar.day_abbr)[datetime.datetime.strptime(list1[i][2], '%d-%b-%Y').weekday()])"
   ]
  },
  {
   "cell_type": "code",
   "execution_count": 272,
   "id": "15de99f5",
   "metadata": {},
   "outputs": [],
   "source": [
    "for i in range(len(list2)):\n",
    "    if \"Monday\" in list2[i]:\n",
    "        list2[i][2] = list2[i][2].replace(\"Monday\", \"Mon\")\n",
    "    elif \"Tuesday\" in list2[i]:\n",
    "        list2[i][2] = list2[i][2].replace(\"Tuesday\", \"Tue\")\n",
    "    elif \"Wednesday\" in list2[i]:\n",
    "        list2[i][2] = list2[i][2].replace(\"Wednesday\", \"Wed\")\n",
    "    elif \"Thursday\" in list2[i]:\n",
    "        list2[i][2] = list2[i][2].replace(\"Thursday\", \"Thu\")\n",
    "    elif \"Friday\" in list2[i]:\n",
    "        list2[i][2] = list2[i][2].replace(\"Friday\", \"Fri\")\n",
    "    elif \"Saturday\" in list2[i]:\n",
    "        list2[i][2] = list2[i][2].replace(\"Saturday\", \"Sat\")\n",
    "    elif \"Sunday\" in list2[i]:\n",
    "        list2[i][2] = list2[i][2].replace(\"Sunday\", \"Sun\")"
   ]
  },
  {
   "cell_type": "code",
   "execution_count": 273,
   "id": "242eac49",
   "metadata": {},
   "outputs": [],
   "source": [
    "df1 = pd.DataFrame(list1, columns =['hour', 'a/pm', 'week', 'date', 'electric'])\n",
    "df2 = pd.DataFrame(list2, columns =['hour', 'a/pm', 'week', 'date', 'electric'])"
   ]
  },
  {
   "cell_type": "code",
   "execution_count": 274,
   "id": "7c413904",
   "metadata": {},
   "outputs": [],
   "source": [
    "data = pd.concat([df1, df2])"
   ]
  },
  {
   "cell_type": "code",
   "execution_count": 236,
   "id": "9f4ede2d",
   "metadata": {},
   "outputs": [
    {
     "data": {
      "text/html": [
       "<div>\n",
       "<style scoped>\n",
       "    .dataframe tbody tr th:only-of-type {\n",
       "        vertical-align: middle;\n",
       "    }\n",
       "\n",
       "    .dataframe tbody tr th {\n",
       "        vertical-align: top;\n",
       "    }\n",
       "\n",
       "    .dataframe thead th {\n",
       "        text-align: right;\n",
       "    }\n",
       "</style>\n",
       "<table border=\"1\" class=\"dataframe\">\n",
       "  <thead>\n",
       "    <tr style=\"text-align: right;\">\n",
       "      <th></th>\n",
       "      <th>hour</th>\n",
       "      <th>a/pm</th>\n",
       "      <th>week</th>\n",
       "      <th>date</th>\n",
       "      <th>electric</th>\n",
       "    </tr>\n",
       "  </thead>\n",
       "  <tbody>\n",
       "    <tr>\n",
       "      <th>0</th>\n",
       "      <td>5</td>\n",
       "      <td>AM</td>\n",
       "      <td>Fri</td>\n",
       "      <td>15-Aug-2014</td>\n",
       "      <td>1.201</td>\n",
       "    </tr>\n",
       "    <tr>\n",
       "      <th>1</th>\n",
       "      <td>6</td>\n",
       "      <td>PM</td>\n",
       "      <td>Wed</td>\n",
       "      <td>23-Apr-2014</td>\n",
       "      <td>0.424</td>\n",
       "    </tr>\n",
       "    <tr>\n",
       "      <th>2</th>\n",
       "      <td>8</td>\n",
       "      <td>AM</td>\n",
       "      <td>Thu</td>\n",
       "      <td>14-Aug-2014</td>\n",
       "      <td>0.523</td>\n",
       "    </tr>\n",
       "    <tr>\n",
       "      <th>3</th>\n",
       "      <td>4</td>\n",
       "      <td>PM</td>\n",
       "      <td>Sat</td>\n",
       "      <td>25-Jan-2014</td>\n",
       "      <td>2.052</td>\n",
       "    </tr>\n",
       "    <tr>\n",
       "      <th>4</th>\n",
       "      <td>4</td>\n",
       "      <td>PM</td>\n",
       "      <td>Tue</td>\n",
       "      <td>11-Feb-2014</td>\n",
       "      <td>0.509</td>\n",
       "    </tr>\n",
       "    <tr>\n",
       "      <th>...</th>\n",
       "      <td>...</td>\n",
       "      <td>...</td>\n",
       "      <td>...</td>\n",
       "      <td>...</td>\n",
       "      <td>...</td>\n",
       "    </tr>\n",
       "    <tr>\n",
       "      <th>4456</th>\n",
       "      <td>4</td>\n",
       "      <td>AM</td>\n",
       "      <td>Wed</td>\n",
       "      <td>18-Jun-2014</td>\n",
       "      <td>0.421</td>\n",
       "    </tr>\n",
       "    <tr>\n",
       "      <th>4457</th>\n",
       "      <td>1</td>\n",
       "      <td>AM</td>\n",
       "      <td>Tue</td>\n",
       "      <td>6-May-2014</td>\n",
       "      <td>0.162</td>\n",
       "    </tr>\n",
       "    <tr>\n",
       "      <th>4458</th>\n",
       "      <td>8</td>\n",
       "      <td>PM</td>\n",
       "      <td>Thu</td>\n",
       "      <td>11-Dec-2014</td>\n",
       "      <td>1.478</td>\n",
       "    </tr>\n",
       "    <tr>\n",
       "      <th>4459</th>\n",
       "      <td>1</td>\n",
       "      <td>AM</td>\n",
       "      <td>Fri</td>\n",
       "      <td>07-Nov-2014</td>\n",
       "      <td>0.084</td>\n",
       "    </tr>\n",
       "    <tr>\n",
       "      <th>4460</th>\n",
       "      <td>2</td>\n",
       "      <td>AM</td>\n",
       "      <td>Tue</td>\n",
       "      <td>8-Apr-2014</td>\n",
       "      <td>0.052</td>\n",
       "    </tr>\n",
       "  </tbody>\n",
       "</table>\n",
       "<p>8760 rows × 5 columns</p>\n",
       "</div>"
      ],
      "text/plain": [
       "     hour a/pm week         date electric\n",
       "0       5   AM  Fri  15-Aug-2014    1.201\n",
       "1       6   PM  Wed  23-Apr-2014    0.424\n",
       "2       8   AM  Thu  14-Aug-2014    0.523\n",
       "3       4   PM  Sat  25-Jan-2014    2.052\n",
       "4       4   PM  Tue  11-Feb-2014    0.509\n",
       "...   ...  ...  ...          ...      ...\n",
       "4456    4   AM  Wed  18-Jun-2014    0.421\n",
       "4457    1   AM  Tue   6-May-2014    0.162\n",
       "4458    8   PM  Thu  11-Dec-2014    1.478\n",
       "4459    1   AM  Fri  07-Nov-2014    0.084\n",
       "4460    2   AM  Tue   8-Apr-2014    0.052\n",
       "\n",
       "[8760 rows x 5 columns]"
      ]
     },
     "execution_count": 236,
     "metadata": {},
     "output_type": "execute_result"
    }
   ],
   "source": [
    "data"
   ]
  },
  {
   "cell_type": "code",
   "execution_count": 217,
   "id": "c776afe0",
   "metadata": {},
   "outputs": [
    {
     "data": {
      "text/plain": [
       "0.7817481735159818"
      ]
     },
     "execution_count": 217,
     "metadata": {},
     "output_type": "execute_result"
    }
   ],
   "source": [
    "data[['electric']] = data[['electric']].apply(pd.to_numeric) # A\n",
    "(data['electric'].sum())/len(data)"
   ]
  },
  {
   "cell_type": "code",
   "execution_count": 218,
   "id": "7147441b",
   "metadata": {},
   "outputs": [
    {
     "data": {
      "text/plain": [
       "671"
      ]
     },
     "execution_count": 218,
     "metadata": {},
     "output_type": "execute_result"
    }
   ],
   "source": [
    "data['date'].str.contains('Feb').sum()   #D"
   ]
  },
  {
   "cell_type": "code",
   "execution_count": 219,
   "id": "1ea8d2d5",
   "metadata": {},
   "outputs": [
    {
     "data": {
      "text/plain": [
       "0.8337347242921048"
      ]
     },
     "execution_count": 219,
     "metadata": {},
     "output_type": "execute_result"
    }
   ],
   "source": [
    "sum1 = 0\n",
    "for i in data.loc[data['date'].str.contains('Feb'), 'electric']:\n",
    "    sum1 = sum1 + i   \n",
    "sum1/data['date'].str.contains('Feb').sum()"
   ]
  },
  {
   "cell_type": "code",
   "execution_count": 220,
   "id": "2d4531ff",
   "metadata": {},
   "outputs": [
    {
     "data": {
      "text/html": [
       "<div>\n",
       "<style scoped>\n",
       "    .dataframe tbody tr th:only-of-type {\n",
       "        vertical-align: middle;\n",
       "    }\n",
       "\n",
       "    .dataframe tbody tr th {\n",
       "        vertical-align: top;\n",
       "    }\n",
       "\n",
       "    .dataframe thead th {\n",
       "        text-align: right;\n",
       "    }\n",
       "</style>\n",
       "<table border=\"1\" class=\"dataframe\">\n",
       "  <thead>\n",
       "    <tr style=\"text-align: right;\">\n",
       "      <th></th>\n",
       "      <th>electric</th>\n",
       "      <th>date</th>\n",
       "      <th>hour</th>\n",
       "    </tr>\n",
       "  </thead>\n",
       "  <tbody>\n",
       "    <tr>\n",
       "      <th>4</th>\n",
       "      <td>0.509</td>\n",
       "      <td>11-Feb-2014</td>\n",
       "      <td>4</td>\n",
       "    </tr>\n",
       "    <tr>\n",
       "      <th>23</th>\n",
       "      <td>0.594</td>\n",
       "      <td>13-Feb-2014</td>\n",
       "      <td>12</td>\n",
       "    </tr>\n",
       "    <tr>\n",
       "      <th>27</th>\n",
       "      <td>0.228</td>\n",
       "      <td>5-Feb-2014</td>\n",
       "      <td>3</td>\n",
       "    </tr>\n",
       "    <tr>\n",
       "      <th>78</th>\n",
       "      <td>0.523</td>\n",
       "      <td>13-Feb-2014</td>\n",
       "      <td>4</td>\n",
       "    </tr>\n",
       "    <tr>\n",
       "      <th>85</th>\n",
       "      <td>0.233</td>\n",
       "      <td>19-Feb-2014</td>\n",
       "      <td>1</td>\n",
       "    </tr>\n",
       "    <tr>\n",
       "      <th>...</th>\n",
       "      <td>...</td>\n",
       "      <td>...</td>\n",
       "      <td>...</td>\n",
       "    </tr>\n",
       "    <tr>\n",
       "      <th>4399</th>\n",
       "      <td>1.576</td>\n",
       "      <td>19-Feb-2014</td>\n",
       "      <td>5</td>\n",
       "    </tr>\n",
       "    <tr>\n",
       "      <th>4404</th>\n",
       "      <td>0.427</td>\n",
       "      <td>25-Feb-2014</td>\n",
       "      <td>3</td>\n",
       "    </tr>\n",
       "    <tr>\n",
       "      <th>4442</th>\n",
       "      <td>0.403</td>\n",
       "      <td>8-Feb-2014</td>\n",
       "      <td>10</td>\n",
       "    </tr>\n",
       "    <tr>\n",
       "      <th>4443</th>\n",
       "      <td>0.749</td>\n",
       "      <td>23-Feb-2014</td>\n",
       "      <td>1</td>\n",
       "    </tr>\n",
       "    <tr>\n",
       "      <th>4455</th>\n",
       "      <td>1.210</td>\n",
       "      <td>2-Feb-2014</td>\n",
       "      <td>3</td>\n",
       "    </tr>\n",
       "  </tbody>\n",
       "</table>\n",
       "<p>671 rows × 3 columns</p>\n",
       "</div>"
      ],
      "text/plain": [
       "      electric         date hour\n",
       "4        0.509  11-Feb-2014    4\n",
       "23       0.594  13-Feb-2014   12\n",
       "27       0.228   5-Feb-2014    3\n",
       "78       0.523  13-Feb-2014    4\n",
       "85       0.233  19-Feb-2014    1\n",
       "...        ...          ...  ...\n",
       "4399     1.576  19-Feb-2014    5\n",
       "4404     0.427  25-Feb-2014    3\n",
       "4442     0.403   8-Feb-2014   10\n",
       "4443     0.749  23-Feb-2014    1\n",
       "4455     1.210   2-Feb-2014    3\n",
       "\n",
       "[671 rows x 3 columns]"
      ]
     },
     "execution_count": 220,
     "metadata": {},
     "output_type": "execute_result"
    }
   ],
   "source": [
    "data = data.loc[data['date'].str.contains('Feb'), ('electric', 'date','hour')]\n",
    "data"
   ]
  },
  {
   "cell_type": "code",
   "execution_count": 237,
   "id": "4648825b",
   "metadata": {},
   "outputs": [],
   "source": [
    "data = data.groupby('week').agg({'electric': 'sum'})"
   ]
  },
  {
   "cell_type": "code",
   "execution_count": 238,
   "id": "100bf7c2",
   "metadata": {},
   "outputs": [
    {
     "data": {
      "text/html": [
       "<div>\n",
       "<style scoped>\n",
       "    .dataframe tbody tr th:only-of-type {\n",
       "        vertical-align: middle;\n",
       "    }\n",
       "\n",
       "    .dataframe tbody tr th {\n",
       "        vertical-align: top;\n",
       "    }\n",
       "\n",
       "    .dataframe thead th {\n",
       "        text-align: right;\n",
       "    }\n",
       "</style>\n",
       "<table border=\"1\" class=\"dataframe\">\n",
       "  <thead>\n",
       "    <tr style=\"text-align: right;\">\n",
       "      <th></th>\n",
       "      <th>electric</th>\n",
       "    </tr>\n",
       "    <tr>\n",
       "      <th>week</th>\n",
       "      <th></th>\n",
       "    </tr>\n",
       "  </thead>\n",
       "  <tbody>\n",
       "    <tr>\n",
       "      <th>Fri</th>\n",
       "      <td>1.2011.2010.5460.6260.2720.6240.4450.4160.7850...</td>\n",
       "    </tr>\n",
       "    <tr>\n",
       "      <th>Mon</th>\n",
       "      <td>0.8740.380.1740.930.5380.300.2880.7560.2883.16...</td>\n",
       "    </tr>\n",
       "    <tr>\n",
       "      <th>Sat</th>\n",
       "      <td>2.0520.2030.9880.3260.1850.9860.2890.230.3672....</td>\n",
       "    </tr>\n",
       "    <tr>\n",
       "      <th>Sun</th>\n",
       "      <td>0.3850.2460.4030.5042.5580.1660.940.5240.2120....</td>\n",
       "    </tr>\n",
       "    <tr>\n",
       "      <th>Thu</th>\n",
       "      <td>0.5230.540.5940.8480.3840.1920.4181.1660.2690....</td>\n",
       "    </tr>\n",
       "    <tr>\n",
       "      <th>Tue</th>\n",
       "      <td>0.5090.5780.892.9120.840.1570.5620.1580.4310.7...</td>\n",
       "    </tr>\n",
       "    <tr>\n",
       "      <th>Wed</th>\n",
       "      <td>0.4240.4240.100.2280.6120.3760.9982.5740.5760....</td>\n",
       "    </tr>\n",
       "  </tbody>\n",
       "</table>\n",
       "</div>"
      ],
      "text/plain": [
       "                                               electric\n",
       "week                                                   \n",
       "Fri   1.2011.2010.5460.6260.2720.6240.4450.4160.7850...\n",
       "Mon   0.8740.380.1740.930.5380.300.2880.7560.2883.16...\n",
       "Sat   2.0520.2030.9880.3260.1850.9860.2890.230.3672....\n",
       "Sun   0.3850.2460.4030.5042.5580.1660.940.5240.2120....\n",
       "Thu   0.5230.540.5940.8480.3840.1920.4181.1660.2690....\n",
       "Tue   0.5090.5780.892.9120.840.1570.5620.1580.4310.7...\n",
       "Wed   0.4240.4240.100.2280.6120.3760.9982.5740.5760...."
      ]
     },
     "execution_count": 238,
     "metadata": {},
     "output_type": "execute_result"
    }
   ],
   "source": [
    "data"
   ]
  },
  {
   "cell_type": "code",
   "execution_count": 196,
   "id": "0d182736",
   "metadata": {},
   "outputs": [
    {
     "data": {
      "text/html": [
       "<div>\n",
       "<style scoped>\n",
       "    .dataframe tbody tr th:only-of-type {\n",
       "        vertical-align: middle;\n",
       "    }\n",
       "\n",
       "    .dataframe tbody tr th {\n",
       "        vertical-align: top;\n",
       "    }\n",
       "\n",
       "    .dataframe thead th {\n",
       "        text-align: right;\n",
       "    }\n",
       "</style>\n",
       "<table border=\"1\" class=\"dataframe\">\n",
       "  <thead>\n",
       "    <tr style=\"text-align: right;\">\n",
       "      <th></th>\n",
       "      <th>electric</th>\n",
       "    </tr>\n",
       "    <tr>\n",
       "      <th>week</th>\n",
       "      <th></th>\n",
       "    </tr>\n",
       "  </thead>\n",
       "  <tbody>\n",
       "    <tr>\n",
       "      <th>Sun</th>\n",
       "      <td>1120.556</td>\n",
       "    </tr>\n",
       "  </tbody>\n",
       "</table>\n",
       "</div>"
      ],
      "text/plain": [
       "      electric\n",
       "week          \n",
       "Sun   1120.556"
      ]
     },
     "execution_count": 196,
     "metadata": {},
     "output_type": "execute_result"
    }
   ],
   "source": [
    "data.sort_values('electric',ascending=False ).head(1)  #A"
   ]
  },
  {
   "cell_type": "code",
   "execution_count": 200,
   "id": "14e2e896",
   "metadata": {},
   "outputs": [
    {
     "data": {
      "text/html": [
       "<div>\n",
       "<style scoped>\n",
       "    .dataframe tbody tr th:only-of-type {\n",
       "        vertical-align: middle;\n",
       "    }\n",
       "\n",
       "    .dataframe tbody tr th {\n",
       "        vertical-align: top;\n",
       "    }\n",
       "\n",
       "    .dataframe thead th {\n",
       "        text-align: right;\n",
       "    }\n",
       "</style>\n",
       "<table border=\"1\" class=\"dataframe\">\n",
       "  <thead>\n",
       "    <tr style=\"text-align: right;\">\n",
       "      <th></th>\n",
       "      <th>electric</th>\n",
       "    </tr>\n",
       "    <tr>\n",
       "      <th>week</th>\n",
       "      <th></th>\n",
       "    </tr>\n",
       "  </thead>\n",
       "  <tbody>\n",
       "    <tr>\n",
       "      <th>Fri</th>\n",
       "      <td>942.083</td>\n",
       "    </tr>\n",
       "    <tr>\n",
       "      <th>Mon</th>\n",
       "      <td>906.642</td>\n",
       "    </tr>\n",
       "    <tr>\n",
       "      <th>Sat</th>\n",
       "      <td>1110.204</td>\n",
       "    </tr>\n",
       "    <tr>\n",
       "      <th>Sun</th>\n",
       "      <td>1120.556</td>\n",
       "    </tr>\n",
       "    <tr>\n",
       "      <th>Thu</th>\n",
       "      <td>931.476</td>\n",
       "    </tr>\n",
       "    <tr>\n",
       "      <th>Tue</th>\n",
       "      <td>903.154</td>\n",
       "    </tr>\n",
       "    <tr>\n",
       "      <th>Wed</th>\n",
       "      <td>933.999</td>\n",
       "    </tr>\n",
       "  </tbody>\n",
       "</table>\n",
       "</div>"
      ],
      "text/plain": [
       "      electric\n",
       "week          \n",
       "Fri    942.083\n",
       "Mon    906.642\n",
       "Sat   1110.204\n",
       "Sun   1120.556\n",
       "Thu    931.476\n",
       "Tue    903.154\n",
       "Wed    933.999"
      ]
     },
     "execution_count": 200,
     "metadata": {},
     "output_type": "execute_result"
    }
   ],
   "source": [
    "data"
   ]
  },
  {
   "cell_type": "code",
   "execution_count": 254,
   "id": "6fe1c701",
   "metadata": {},
   "outputs": [
    {
     "data": {
      "text/plain": [
       "0       15-Aug-2014 5AM\n",
       "1       23-Apr-2014 6PM\n",
       "2       14-Aug-2014 8AM\n",
       "3       25-Jan-2014 4PM\n",
       "4       11-Feb-2014 4PM\n",
       "             ...       \n",
       "4456    18-Jun-2014 4AM\n",
       "4457     6-May-2014 1AM\n",
       "4458    11-Dec-2014 8PM\n",
       "4459    07-Nov-2014 1AM\n",
       "4460     8-Apr-2014 2AM\n",
       "Name: datetime, Length: 8760, dtype: object"
      ]
     },
     "execution_count": 254,
     "metadata": {},
     "output_type": "execute_result"
    }
   ],
   "source": [
    "data['datetime'] = data['date']+ (' ') + data['hour'] +data['a/pm']\n",
    "data['datetime']"
   ]
  },
  {
   "cell_type": "code",
   "execution_count": 255,
   "id": "c6c934c2",
   "metadata": {},
   "outputs": [],
   "source": [
    "data['datetime']= pd.to_datetime(data['datetime'])"
   ]
  },
  {
   "cell_type": "code",
   "execution_count": 256,
   "id": "675bb05d",
   "metadata": {},
   "outputs": [],
   "source": [
    "data = data.sort_values('datetime')"
   ]
  },
  {
   "cell_type": "code",
   "execution_count": 257,
   "id": "ff539f64",
   "metadata": {},
   "outputs": [
    {
     "data": {
      "text/plain": [
       "17.237000000000002"
      ]
     },
     "execution_count": 257,
     "metadata": {},
     "output_type": "execute_result"
    }
   ],
   "source": [
    "data.electric.rolling(4).sum().max()    #A"
   ]
  },
  {
   "cell_type": "code",
   "execution_count": 275,
   "id": "834b7100",
   "metadata": {},
   "outputs": [],
   "source": [
    "data['month'] = pd.DatetimeIndex(data['date']).month"
   ]
  },
  {
   "cell_type": "code",
   "execution_count": 276,
   "id": "8bf5f7e7",
   "metadata": {},
   "outputs": [
    {
     "data": {
      "text/plain": [
       "0        8\n",
       "1        4\n",
       "2        8\n",
       "3        1\n",
       "4        2\n",
       "        ..\n",
       "4456     6\n",
       "4457     5\n",
       "4458    12\n",
       "4459    11\n",
       "4460     4\n",
       "Name: month, Length: 8760, dtype: int64"
      ]
     },
     "execution_count": 276,
     "metadata": {},
     "output_type": "execute_result"
    }
   ],
   "source": [
    "data.month"
   ]
  },
  {
   "cell_type": "code",
   "execution_count": 292,
   "id": "be63127e",
   "metadata": {},
   "outputs": [
    {
     "data": {
      "text/html": [
       "<div>\n",
       "<style scoped>\n",
       "    .dataframe tbody tr th:only-of-type {\n",
       "        vertical-align: middle;\n",
       "    }\n",
       "\n",
       "    .dataframe tbody tr th {\n",
       "        vertical-align: top;\n",
       "    }\n",
       "\n",
       "    .dataframe thead th {\n",
       "        text-align: right;\n",
       "    }\n",
       "</style>\n",
       "<table border=\"1\" class=\"dataframe\">\n",
       "  <thead>\n",
       "    <tr style=\"text-align: right;\">\n",
       "      <th></th>\n",
       "      <th>electric</th>\n",
       "    </tr>\n",
       "    <tr>\n",
       "      <th>month</th>\n",
       "      <th></th>\n",
       "    </tr>\n",
       "  </thead>\n",
       "  <tbody>\n",
       "    <tr>\n",
       "      <th>1</th>\n",
       "      <td>2.0520.890.5460.542.9120.840.8480.3840.3760.38...</td>\n",
       "    </tr>\n",
       "    <tr>\n",
       "      <th>2</th>\n",
       "      <td>0.5090.5940.2280.5230.2330.950.541.1810.6620.6...</td>\n",
       "    </tr>\n",
       "    <tr>\n",
       "      <th>3</th>\n",
       "      <td>0.9880.4160.8641.0090.1490.3881.4081.2160.1620...</td>\n",
       "    </tr>\n",
       "    <tr>\n",
       "      <th>4</th>\n",
       "      <td>0.4240.4240.100.4450.4180.5620.1660.5380.1130....</td>\n",
       "    </tr>\n",
       "    <tr>\n",
       "      <th>5</th>\n",
       "      <td>0.2720.3260.230.1620.3170.3040.3680.4030.2380....</td>\n",
       "    </tr>\n",
       "    <tr>\n",
       "      <th>6</th>\n",
       "      <td>0.7850.7560.942.0412.2250.4370.6372.4410.4322....</td>\n",
       "    </tr>\n",
       "    <tr>\n",
       "      <th>7</th>\n",
       "      <td>0.8740.9982.5582.1893.1681.1331.921.140.4941.1...</td>\n",
       "    </tr>\n",
       "    <tr>\n",
       "      <th>8</th>\n",
       "      <td>1.2010.5231.2010.3850.6120.5761.1660.3960.6770...</td>\n",
       "    </tr>\n",
       "    <tr>\n",
       "      <th>9</th>\n",
       "      <td>0.1850.1570.1580.1740.2691.4740.1551.210.5421....</td>\n",
       "    </tr>\n",
       "    <tr>\n",
       "      <th>10</th>\n",
       "      <td>0.6260.2460.1920.5040.2880.240.2880.1730.2120....</td>\n",
       "    </tr>\n",
       "    <tr>\n",
       "      <th>11</th>\n",
       "      <td>0.2030.4030.6240.2890.3670.7780.2070.1490.6870...</td>\n",
       "    </tr>\n",
       "    <tr>\n",
       "      <th>12</th>\n",
       "      <td>0.5780.9860.4310.300.8420.1960.4490.1780.1981....</td>\n",
       "    </tr>\n",
       "  </tbody>\n",
       "</table>\n",
       "</div>"
      ],
      "text/plain": [
       "                                                electric\n",
       "month                                                   \n",
       "1      2.0520.890.5460.542.9120.840.8480.3840.3760.38...\n",
       "2      0.5090.5940.2280.5230.2330.950.541.1810.6620.6...\n",
       "3      0.9880.4160.8641.0090.1490.3881.4081.2160.1620...\n",
       "4      0.4240.4240.100.4450.4180.5620.1660.5380.1130....\n",
       "5      0.2720.3260.230.1620.3170.3040.3680.4030.2380....\n",
       "6      0.7850.7560.942.0412.2250.4370.6372.4410.4322....\n",
       "7      0.8740.9982.5582.1893.1681.1331.921.140.4941.1...\n",
       "8      1.2010.5231.2010.3850.6120.5761.1660.3960.6770...\n",
       "9      0.1850.1570.1580.1740.2691.4740.1551.210.5421....\n",
       "10     0.6260.2460.1920.5040.2880.240.2880.1730.2120....\n",
       "11     0.2030.4030.6240.2890.3670.7780.2070.1490.6870...\n",
       "12     0.5780.9860.4310.300.8420.1960.4490.1780.1981...."
      ]
     },
     "execution_count": 292,
     "metadata": {},
     "output_type": "execute_result"
    }
   ],
   "source": [
    "data.groupby('month').agg({'electric': 'sum'})"
   ]
  },
  {
   "cell_type": "code",
   "execution_count": 293,
   "id": "449500ee",
   "metadata": {},
   "outputs": [
    {
     "ename": "AttributeError",
     "evalue": "'list' object has no attribute 'mul'",
     "output_type": "error",
     "traceback": [
      "\u001b[1;31m---------------------------------------------------------------------------\u001b[0m",
      "\u001b[1;31mAttributeError\u001b[0m                            Traceback (most recent call last)",
      "\u001b[1;32m<ipython-input-293-5fa7ba1fd2ee>\u001b[0m in \u001b[0;36m<module>\u001b[1;34m\u001b[0m\n\u001b[1;32m----> 1\u001b[1;33m \u001b[1;33m[\u001b[0m\u001b[1;34m'electric'\u001b[0m\u001b[1;33m]\u001b[0m\u001b[1;33m.\u001b[0m\u001b[0mmul\u001b[0m\u001b[1;33m(\u001b[0m\u001b[1;33m[\u001b[0m\u001b[1;36m0.2\u001b[0m\u001b[1;33m,\u001b[0m \u001b[1;36m0.19\u001b[0m\u001b[1;33m,\u001b[0m\u001b[1;36m0.17\u001b[0m\u001b[1;33m,\u001b[0m\u001b[1;36m0.18\u001b[0m\u001b[1;33m,\u001b[0m\u001b[1;36m0.22\u001b[0m\u001b[1;33m,\u001b[0m\u001b[1;36m0.27\u001b[0m\u001b[1;33m,\u001b[0m\u001b[1;36m0.24\u001b[0m\u001b[1;33m,\u001b[0m\u001b[1;36m0.19\u001b[0m\u001b[1;33m,\u001b[0m\u001b[1;36m0.18\u001b[0m\u001b[1;33m,\u001b[0m\u001b[1;36m0.15\u001b[0m\u001b[1;33m,\u001b[0m\u001b[1;36m0.14\u001b[0m\u001b[1;33m,\u001b[0m\u001b[1;36m0.19\u001b[0m\u001b[1;33m]\u001b[0m\u001b[1;33m,\u001b[0m \u001b[0maxis\u001b[0m\u001b[1;33m=\u001b[0m\u001b[1;36m0\u001b[0m\u001b[1;33m)\u001b[0m\u001b[1;33m.\u001b[0m\u001b[0msum\u001b[0m\u001b[1;33m(\u001b[0m\u001b[1;33m)\u001b[0m  \u001b[1;31m#B\u001b[0m\u001b[1;33m\u001b[0m\u001b[1;33m\u001b[0m\u001b[0m\n\u001b[0m",
      "\u001b[1;31mAttributeError\u001b[0m: 'list' object has no attribute 'mul'"
     ]
    }
   ],
   "source": [
    "['electric'].mul([0.2, 0.19,0.17,0.18,0.22,0.27,0.24,0.19,0.18,0.15,0.14,0.19], axis=0).sum()  #B"
   ]
  },
  {
   "cell_type": "code",
   "execution_count": 289,
   "id": "bec6df0d",
   "metadata": {},
   "outputs": [],
   "source": [
    "data['time'] = data['hour']+data['a/pm']"
   ]
  },
  {
   "cell_type": "code",
   "execution_count": 290,
   "id": "f696c6cd",
   "metadata": {},
   "outputs": [
    {
     "data": {
      "text/html": [
       "<div>\n",
       "<style scoped>\n",
       "    .dataframe tbody tr th:only-of-type {\n",
       "        vertical-align: middle;\n",
       "    }\n",
       "\n",
       "    .dataframe tbody tr th {\n",
       "        vertical-align: top;\n",
       "    }\n",
       "\n",
       "    .dataframe thead th {\n",
       "        text-align: right;\n",
       "    }\n",
       "</style>\n",
       "<table border=\"1\" class=\"dataframe\">\n",
       "  <thead>\n",
       "    <tr style=\"text-align: right;\">\n",
       "      <th></th>\n",
       "      <th>electric</th>\n",
       "    </tr>\n",
       "    <tr>\n",
       "      <th>time</th>\n",
       "      <th></th>\n",
       "    </tr>\n",
       "  </thead>\n",
       "  <tbody>\n",
       "    <tr>\n",
       "      <th>10AM</th>\n",
       "      <td>0.4310.1661.1330.6770.6620.6190.3070.2950.2451...</td>\n",
       "    </tr>\n",
       "    <tr>\n",
       "      <th>10PM</th>\n",
       "      <td>0.2030.2460.2880.3680.2070.2120.4520.6120.2390...</td>\n",
       "    </tr>\n",
       "    <tr>\n",
       "      <th>11AM</th>\n",
       "      <td>0.5780.2890.931.100.1691.140.4030.1471.110.540...</td>\n",
       "    </tr>\n",
       "    <tr>\n",
       "      <th>11PM</th>\n",
       "      <td>0.890.6120.3880.961.3561.4040.1411.090.8010.96...</td>\n",
       "    </tr>\n",
       "    <tr>\n",
       "      <th>12AM</th>\n",
       "      <td>0.5460.100.540.3960.4320.2830.1890.1760.3740.4...</td>\n",
       "    </tr>\n",
       "    <tr>\n",
       "      <th>12PM</th>\n",
       "      <td>0.5940.4160.940.1470.2840.3460.3761.0711.6271....</td>\n",
       "    </tr>\n",
       "    <tr>\n",
       "      <th>1AM</th>\n",
       "      <td>0.3760.4360.2330.1490.4940.1980.5580.1470.4070...</td>\n",
       "    </tr>\n",
       "    <tr>\n",
       "      <th>1PM</th>\n",
       "      <td>0.8740.3170.3040.3580.2850.6720.2350.9360.1150...</td>\n",
       "    </tr>\n",
       "    <tr>\n",
       "      <th>2AM</th>\n",
       "      <td>0.1580.4440.4990.1070.1740.5820.190.2520.0590....</td>\n",
       "    </tr>\n",
       "    <tr>\n",
       "      <th>2PM</th>\n",
       "      <td>0.4030.9860.5040.5760.7282.1890.6721.920.7121....</td>\n",
       "    </tr>\n",
       "    <tr>\n",
       "      <th>3AM</th>\n",
       "      <td>0.1850.2280.380.1570.1620.1550.1960.2860.090.3...</td>\n",
       "    </tr>\n",
       "    <tr>\n",
       "      <th>3PM</th>\n",
       "      <td>0.840.8420.1761.1560.4560.2480.4591.1480.1890....</td>\n",
       "    </tr>\n",
       "    <tr>\n",
       "      <th>4AM</th>\n",
       "      <td>0.3850.3840.230.3240.0710.1780.1620.1420.4460....</td>\n",
       "    </tr>\n",
       "    <tr>\n",
       "      <th>4PM</th>\n",
       "      <td>2.0520.5090.8480.9980.2690.2880.7560.5230.1210...</td>\n",
       "    </tr>\n",
       "    <tr>\n",
       "      <th>5AM</th>\n",
       "      <td>1.2011.2012.5740.2120.6180.1490.5940.8180.2810...</td>\n",
       "    </tr>\n",
       "    <tr>\n",
       "      <th>5PM</th>\n",
       "      <td>1.0090.6741.8790.9980.2841.423.1511.9441.6070....</td>\n",
       "    </tr>\n",
       "    <tr>\n",
       "      <th>6AM</th>\n",
       "      <td>0.6260.3671.1663.1682.2252.4411.1810.3640.2880...</td>\n",
       "    </tr>\n",
       "    <tr>\n",
       "      <th>6PM</th>\n",
       "      <td>0.4240.4242.9120.6240.4453.4922.0411.210.6872....</td>\n",
       "    </tr>\n",
       "    <tr>\n",
       "      <th>7AM</th>\n",
       "      <td>0.2160.950.5421.800.470.9070.4321.2531.2143.16...</td>\n",
       "    </tr>\n",
       "    <tr>\n",
       "      <th>7PM</th>\n",
       "      <td>0.5620.7781.4740.7051.1841.4244.2482.4840.6481...</td>\n",
       "    </tr>\n",
       "    <tr>\n",
       "      <th>8AM</th>\n",
       "      <td>0.5230.9880.2720.1922.5580.240.8640.9120.4490....</td>\n",
       "    </tr>\n",
       "    <tr>\n",
       "      <th>8PM</th>\n",
       "      <td>0.4180.5380.5242.561.4082.8510.8641.2161.0841....</td>\n",
       "    </tr>\n",
       "    <tr>\n",
       "      <th>9AM</th>\n",
       "      <td>0.1740.300.8640.1730.4370.6370.3690.2380.2280....</td>\n",
       "    </tr>\n",
       "    <tr>\n",
       "      <th>9PM</th>\n",
       "      <td>0.3260.7850.1130.3110.4250.8930.4330.7850.3230...</td>\n",
       "    </tr>\n",
       "  </tbody>\n",
       "</table>\n",
       "</div>"
      ],
      "text/plain": [
       "                                               electric\n",
       "time                                                   \n",
       "10AM  0.4310.1661.1330.6770.6620.6190.3070.2950.2451...\n",
       "10PM  0.2030.2460.2880.3680.2070.2120.4520.6120.2390...\n",
       "11AM  0.5780.2890.931.100.1691.140.4030.1471.110.540...\n",
       "11PM  0.890.6120.3880.961.3561.4040.1411.090.8010.96...\n",
       "12AM  0.5460.100.540.3960.4320.2830.1890.1760.3740.4...\n",
       "12PM  0.5940.4160.940.1470.2840.3460.3761.0711.6271....\n",
       "1AM   0.3760.4360.2330.1490.4940.1980.5580.1470.4070...\n",
       "1PM   0.8740.3170.3040.3580.2850.6720.2350.9360.1150...\n",
       "2AM   0.1580.4440.4990.1070.1740.5820.190.2520.0590....\n",
       "2PM   0.4030.9860.5040.5760.7282.1890.6721.920.7121....\n",
       "3AM   0.1850.2280.380.1570.1620.1550.1960.2860.090.3...\n",
       "3PM   0.840.8420.1761.1560.4560.2480.4591.1480.1890....\n",
       "4AM   0.3850.3840.230.3240.0710.1780.1620.1420.4460....\n",
       "4PM   2.0520.5090.8480.9980.2690.2880.7560.5230.1210...\n",
       "5AM   1.2011.2012.5740.2120.6180.1490.5940.8180.2810...\n",
       "5PM   1.0090.6741.8790.9980.2841.423.1511.9441.6070....\n",
       "6AM   0.6260.3671.1663.1682.2252.4411.1810.3640.2880...\n",
       "6PM   0.4240.4242.9120.6240.4453.4922.0411.210.6872....\n",
       "7AM   0.2160.950.5421.800.470.9070.4321.2531.2143.16...\n",
       "7PM   0.5620.7781.4740.7051.1841.4244.2482.4840.6481...\n",
       "8AM   0.5230.9880.2720.1922.5580.240.8640.9120.4490....\n",
       "8PM   0.4180.5380.5242.561.4082.8510.8641.2161.0841....\n",
       "9AM   0.1740.300.8640.1730.4370.6370.3690.2380.2280....\n",
       "9PM   0.3260.7850.1130.3110.4250.8930.4330.7850.3230..."
      ]
     },
     "execution_count": 290,
     "metadata": {},
     "output_type": "execute_result"
    }
   ],
   "source": [
    "data.groupby('time').agg({'electric': 'sum'})\n"
   ]
  },
  {
   "cell_type": "code",
   "execution_count": 291,
   "id": "7fdf9a94",
   "metadata": {},
   "outputs": [
    {
     "ename": "AttributeError",
     "evalue": "'list' object has no attribute 'mul'",
     "output_type": "error",
     "traceback": [
      "\u001b[1;31m---------------------------------------------------------------------------\u001b[0m",
      "\u001b[1;31mAttributeError\u001b[0m                            Traceback (most recent call last)",
      "\u001b[1;32m<ipython-input-291-05e16ca3f6a7>\u001b[0m in \u001b[0;36m<module>\u001b[1;34m\u001b[0m\n\u001b[1;32m----> 1\u001b[1;33m \u001b[1;33m[\u001b[0m\u001b[1;34m'electric'\u001b[0m\u001b[1;33m]\u001b[0m\u001b[1;33m.\u001b[0m\u001b[0mmul\u001b[0m\u001b[1;33m(\u001b[0m\u001b[1;33m[\u001b[0m\u001b[1;36m0.20\u001b[0m\u001b[1;33m,\u001b[0m \u001b[1;36m0.10\u001b[0m\u001b[1;33m,\u001b[0m \u001b[1;36m0.26\u001b[0m \u001b[1;33m,\u001b[0m \u001b[1;36m0.10\u001b[0m\u001b[1;33m,\u001b[0m \u001b[1;36m0.10\u001b[0m\u001b[1;33m,\u001b[0m \u001b[1;36m0.26\u001b[0m\u001b[1;33m,\u001b[0m \u001b[1;36m0.10\u001b[0m\u001b[1;33m,\u001b[0m \u001b[1;36m0.20\u001b[0m\u001b[1;33m,\u001b[0m \u001b[1;36m0.10\u001b[0m\u001b[1;33m,\u001b[0m\u001b[1;36m0.24\u001b[0m\u001b[1;33m,\u001b[0m\u001b[1;36m0.10\u001b[0m\u001b[1;33m,\u001b[0m\u001b[1;36m0.18\u001b[0m\u001b[1;33m,\u001b[0m \u001b[1;36m0.15\u001b[0m\u001b[1;33m,\u001b[0m\u001b[1;36m0.15\u001b[0m\u001b[1;33m,\u001b[0m\u001b[1;36m0.20\u001b[0m\u001b[1;33m,\u001b[0m\u001b[1;36m0.30\u001b[0m\u001b[1;33m,\u001b[0m\u001b[1;36m0.24\u001b[0m\u001b[1;33m,\u001b[0m\u001b[1;36m0.24\u001b[0m\u001b[1;33m,\u001b[0m\u001b[1;36m0.24\u001b[0m\u001b[1;33m,\u001b[0m\u001b[1;36m0.24\u001b[0m\u001b[1;33m,\u001b[0m\u001b[1;36m0.26\u001b[0m\u001b[1;33m,\u001b[0m\u001b[1;36m0.12\u001b[0m\u001b[1;33m,\u001b[0m\u001b[1;36m0.20\u001b[0m\u001b[1;33m,\u001b[0m\u001b[1;36m0.11\u001b[0m\u001b[1;33m]\u001b[0m\u001b[1;33m,\u001b[0m \u001b[0maxis\u001b[0m\u001b[1;33m=\u001b[0m\u001b[1;36m0\u001b[0m\u001b[1;33m)\u001b[0m\u001b[1;33m.\u001b[0m\u001b[0msum\u001b[0m\u001b[1;33m(\u001b[0m\u001b[1;33m)\u001b[0m\u001b[1;33m\u001b[0m\u001b[1;33m\u001b[0m\u001b[0m\n\u001b[0m",
      "\u001b[1;31mAttributeError\u001b[0m: 'list' object has no attribute 'mul'"
     ]
    }
   ],
   "source": [
    "['electric'].mul([0.20, 0.10, 0.26 , 0.10, 0.10, 0.26, 0.10, 0.20, 0.10,0.24,0.10,0.18, 0.15,0.15,0.20,0.30,0.24,0.24,0.24,0.24,0.26,0.12,0.20,0.11], axis=0).sum()"
   ]
  },
  {
   "cell_type": "code",
   "execution_count": 287,
   "id": "1fd173b4",
   "metadata": {},
   "outputs": [
    {
     "ename": "TypeError",
     "evalue": "can't multiply sequence by non-int of type 'float'",
     "output_type": "error",
     "traceback": [
      "\u001b[1;31m---------------------------------------------------------------------------\u001b[0m",
      "\u001b[1;31mTypeError\u001b[0m                                 Traceback (most recent call last)",
      "\u001b[1;32m<ipython-input-287-197aae854ff3>\u001b[0m in \u001b[0;36m<module>\u001b[1;34m\u001b[0m\n\u001b[0;32m      1\u001b[0m \u001b[0msumm\u001b[0m\u001b[1;33m=\u001b[0m\u001b[1;36m0\u001b[0m\u001b[1;33m\u001b[0m\u001b[1;33m\u001b[0m\u001b[0m\n\u001b[0;32m      2\u001b[0m \u001b[1;32mfor\u001b[0m \u001b[0mi\u001b[0m \u001b[1;32min\u001b[0m \u001b[0mdata\u001b[0m\u001b[1;33m[\u001b[0m\u001b[1;34m'electric'\u001b[0m\u001b[1;33m]\u001b[0m\u001b[1;33m:\u001b[0m\u001b[1;33m\u001b[0m\u001b[1;33m\u001b[0m\u001b[0m\n\u001b[1;32m----> 3\u001b[1;33m     \u001b[0msumm\u001b[0m\u001b[1;33m=\u001b[0m\u001b[0mi\u001b[0m \u001b[1;33m*\u001b[0m \u001b[1;36m0.21\u001b[0m \u001b[1;33m+\u001b[0m \u001b[0msumm\u001b[0m\u001b[1;33m\u001b[0m\u001b[1;33m\u001b[0m\u001b[0m\n\u001b[0m\u001b[0;32m      4\u001b[0m \u001b[0msumm\u001b[0m\u001b[1;33m\u001b[0m\u001b[1;33m\u001b[0m\u001b[0m\n",
      "\u001b[1;31mTypeError\u001b[0m: can't multiply sequence by non-int of type 'float'"
     ]
    }
   ],
   "source": [
    "summ=0                            #c\n",
    "for i in data['electric']:\n",
    "    summ=i * 0.21 + summ\n",
    "summ"
   ]
  },
  {
   "cell_type": "code",
   "execution_count": null,
   "id": "2f2fd377",
   "metadata": {},
   "outputs": [],
   "source": []
  }
 ],
 "metadata": {
  "kernelspec": {
   "display_name": "Python 3",
   "language": "python",
   "name": "python3"
  },
  "language_info": {
   "codemirror_mode": {
    "name": "ipython",
    "version": 3
   },
   "file_extension": ".py",
   "mimetype": "text/x-python",
   "name": "python",
   "nbconvert_exporter": "python",
   "pygments_lexer": "ipython3",
   "version": "3.8.8"
  }
 },
 "nbformat": 4,
 "nbformat_minor": 5
}
